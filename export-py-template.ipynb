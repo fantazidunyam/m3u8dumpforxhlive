{
 "cells": [
  {
   "cell_type": "code",
   "execution_count": 7,
   "metadata": {},
   "outputs": [
    {
     "name": "stdout",
     "output_type": "stream",
     "text": [
      "Q: Quit \n",
      "canelasquirt\n",
      "python 1182565.py\n",
      "Q: Quit \n",
      "q\n",
      "Quitting\n"
     ]
    }
   ],
   "source": [
    "import requests\n",
    "import os\n",
    "\n",
    "while True:\n",
    "    selection = \"\"\n",
    "    selection = input(\"Q: Quit \\n\")\n",
    "    if selection == \"Q\" or selection == \"q\":\n",
    "        print(\"Quitting\")\n",
    "        break    \n",
    "    elif not selection == \"\":\n",
    "        cam_url = \"https://tr.xhamsterlive.com/api/front/v2/models/username/\"+selection+\"/cam\"\n",
    "        m3u8 = \"https://b-{server}.stripst.com/hls/{id}/{id}.m3u8\"\n",
    "        \n",
    "        response = requests.get(cam_url)\n",
    "        user_info = response.json()\n",
    "\n",
    "        hls_server = \"\"\n",
    "        user_id = \"\"\n",
    "\n",
    "        if 'cam' in user_info:\n",
    "            hls_server = user_info['cam']['viewServers']['flashphoner-hls']\n",
    "\n",
    "        if 'user' in user_info:\n",
    "            user_id = str(user_info['user']['user']['id'])\n",
    "\n",
    "\n",
    "        cam_data = {\"server\": hls_server, \"id\": user_id}\n",
    "        m3u8_url = m3u8.format(**cam_data)\n",
    "        \n",
    "        basename = os.path.basename(m3u8_url)\n",
    "        url = m3u8_url.split(basename)\n",
    "\n",
    "\n",
    "        data = {\"url\": url[0], \"link\": m3u8_url, \"id\": user_id}        \n",
    "        \n",
    "        \n",
    "        template = \"\"\"\n",
    "import requests\n",
    "import os\n",
    "import re\n",
    "\n",
    "url = \"{url}\"\n",
    "m3u = \"{link}\"\n",
    "\n",
    "yol = os.getcwd()+\"\\\\\\{id}\\\\\\\\\"\n",
    "\n",
    "if not os.path.isdir(yol):\n",
    "    os.mkdir(yol)\n",
    "\n",
    "i = 1\n",
    "listem = {{}}\n",
    "while True:\n",
    "    file = requests.get(m3u).text\n",
    "    m3u8_lines = file.split( '\\\\n' )\n",
    "    for line in m3u8_lines:\n",
    "        if re.search(\".ts\", line):\n",
    "            if line not in listem.keys():\n",
    "                listem[line] = str(i)+\"-\"+line\n",
    "                response = requests.get(url+line)\n",
    "                if response.status_code == 200:\n",
    "                    open(yol+str(i)+\"-\"+line, 'wb').write(response.content)\n",
    "                    i += 1\n",
    "        \"\"\"\n",
    "        print (\"python\",user_id+\".py\")\n",
    "        open(os.getcwd()+\"\\\\\"+user_id+\".py\", 'w').write(template.format(**data))        "
   ]
  },
  {
   "cell_type": "code",
   "execution_count": null,
   "metadata": {},
   "outputs": [],
   "source": []
  }
 ],
 "metadata": {
  "kernelspec": {
   "display_name": "Python 3",
   "language": "python",
   "name": "python3"
  },
  "language_info": {
   "codemirror_mode": {
    "name": "ipython",
    "version": 3
   },
   "file_extension": ".py",
   "mimetype": "text/x-python",
   "name": "python",
   "nbconvert_exporter": "python",
   "pygments_lexer": "ipython3",
   "version": "3.9.1"
  }
 },
 "nbformat": 4,
 "nbformat_minor": 4
}

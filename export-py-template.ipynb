{
 "cells": [
  {
   "cell_type": "code",
   "execution_count": 1,
   "metadata": {},
   "outputs": [
    {
     "name": "stdout",
     "output_type": "stream",
     "text": [
      "python 27172250.py\n"
     ]
    },
    {
     "data": {
      "text/plain": [
       "687"
      ]
     },
     "execution_count": 1,
     "metadata": {},
     "output_type": "execute_result"
    }
   ],
   "source": [
    "import os\n",
    "\n",
    "link = \"https://b-hls-02.stripst.com/hls/27172250/27172250.m3u8\"\n",
    "basename = os.path.basename(link)\n",
    "url = link.split(basename)\n",
    "id1 = basename.split('.m3u8')\n",
    "\n",
    "\n",
    "data = {\"url\": url[0], \"link\": link, \"id\": str(id1[0])}\n",
    "\n",
    "template = \"\"\"\n",
    "import requests\n",
    "import os\n",
    "import re\n",
    "\n",
    "url = \"{url}\"\n",
    "m3u = \"{link}\"\n",
    "\n",
    "yol = os.getcwd()+\"\\\\\\{id}\\\\\\\\\"\n",
    "\n",
    "if not os.path.isdir(yol):\n",
    "    os.mkdir(yol)\n",
    "\n",
    "i = 1\n",
    "listem = {{}}\n",
    "while True:\n",
    "    file = requests.get(m3u).text\n",
    "    m3u8_lines = file.split( '\\\\n' )\n",
    "    for line in m3u8_lines:\n",
    "        if re.search(\".ts\", line):\n",
    "            if line not in listem.keys():\n",
    "                listem[line] = str(i)+\"-\"+line\n",
    "                response = requests.get(url+line)\n",
    "                if response.status_code == 200:\n",
    "                    open(yol+str(i)+\"-\"+line, 'wb').write(response.content)\n",
    "                    i += 1\n",
    "\"\"\"\n",
    "print (\"python\",str(id1[0])+\".py\")\n",
    "open(os.getcwd()+\"\\\\\"+str(id1[0])+\".py\", 'w').write(template.format(**data))"
   ]
  },
  {
   "cell_type": "code",
   "execution_count": null,
   "metadata": {},
   "outputs": [],
   "source": []
  }
 ],
 "metadata": {
  "kernelspec": {
   "display_name": "Python 3",
   "language": "python",
   "name": "python3"
  },
  "language_info": {
   "codemirror_mode": {
    "name": "ipython",
    "version": 3
   },
   "file_extension": ".py",
   "mimetype": "text/x-python",
   "name": "python",
   "nbconvert_exporter": "python",
   "pygments_lexer": "ipython3",
   "version": "3.9.1"
  }
 },
 "nbformat": 4,
 "nbformat_minor": 4
}
